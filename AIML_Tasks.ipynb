{
 "cells": [
  {
   "cell_type": "markdown",
   "id": "68248744",
   "metadata": {},
   "source": [
    "# DC X GDG AI/ML Executive Interview Tasks\n",
    "\n",
    "### Instructions for Candidates\n",
    "\n",
    "- **No outside code assistants or AI tools are permitted.**\n",
    "- You may use built-in Python/numpy/pandas/scikit-learn documentation.\n",
    "- Read each prompt carefully; constraints are important.\n",
    "- Write your code and provide your reasoning as instructed.\n",
    "- Write your name,stream and email id before every answer. \n"
   ]
  },
  {
   "cell_type": "markdown",
   "id": "6dfa8638",
   "metadata": {},
   "source": [
    "### \u001bTask 1: Custom Data Filtering & Analysis\u001b\n",
    "\n",
    "**Dataset (Sample format):**\n",
    "\n",
    "| person | age | salary | city    | bonus  |\n",
    "|--------|-----|--------|---------|--------|\n",
    "| Ravi   | 29  | 55_000 | Surat   | 2_000  |\n",
    "| Meena  | 32  | 61_000 | Delhi   | 1_500  |\n",
    "| Raj    | 25  | 67_000 | Surat   | 3_000  |\n",
    "| Priya  | 28  | 52_000 | Mumbai  | 0      |\n",
    "| Ahmed  | 35  | 58_000 | Mumbai  | 500    |\n",
    "\n",
    "**You have to use the full dataset. Get the full dataset in the Github Repo, file is named: Salary_data.csv**\n",
    "\n",
    "**Instructions:**\n",
    "- Only include people *older than 27* years in your analysis.\n",
    "- Ignore the **\u001b‘bonus’\u001b** column for all calculations.\n",
    "- **Step 1:** Compute the average salary for each city (with eligible people).\n",
    "- **Step 2:** For the city with the highest average, explain in *one sentence* what this might indicate about that city.\n"
   ]
  },
  {
   "cell_type": "code",
   "execution_count": null,
   "id": "9ce3b268",
   "metadata": {},
   "outputs": [],
   "source": [
    "# Your code here\n",
    "\n"
   ]
  },
  {
   "cell_type": "markdown",
   "id": "a2558c4a",
   "metadata": {},
   "source": [
    "# Your explanation (one sentence)\n",
    "\n",
    "(Add justification here)\n"
   ]
  },
  {
   "cell_type": "markdown",
   "id": "226004bf",
   "metadata": {},
   "source": [
    "### \u001bTask 2: Odd Array Manipulation\u001b\n",
    "\n",
    "- **Given:** A numpy array of N=25 integers:  ``\n",
    "- **Instructions:**  \n",
    "  - Without for-loops, set all even values to *negative* and leave odd ones unchanged.\n",
    "  - Print:\n",
    "    - The mean value.\n",
    "    - The count of positive, negative, and zero values.\n",
    "    - *BONUS*: What is the index of the largest (by absolute value) element?\n"
   ]
  },
  {
   "cell_type": "code",
   "execution_count": null,
   "id": "4c546445",
   "metadata": {},
   "outputs": [],
   "source": [
    "# Your code here\n",
    "\n"
   ]
  },
  {
   "cell_type": "markdown",
   "id": "cdc0289c",
   "metadata": {},
   "source": [
    "### \u001bTask 3: \u001bTrap\u001b Column Classification\u001b\n",
    "\n",
    "- **Dataset (generate at runtime):**\n",
    "  - Use `numpy` to create 40 rows of fake data:\n",
    "    - `zap`, `mystery`, and `tog` columns (all floats between -5 and 5)\n",
    "    - `target`: 0 or 1 (random)\n",
    "  - Only use columns **‘zap’** and **‘tog’** to fit a logistic regression classifier.\n",
    "  - Give the classifier's accuracy on a 20/20 train/test split.\n",
    "  - **Justify**: In one sentence, why did you select or ignore columns for your model?\n"
   ]
  },
  {
   "cell_type": "code",
   "execution_count": null,
   "id": "dbc86a3b",
   "metadata": {},
   "outputs": [],
   "source": [
    "# Your code here\n",
    "\n"
   ]
  },
  {
   "cell_type": "markdown",
   "id": "fb77d4eb",
   "metadata": {},
   "source": [
    "# Your column-usage justification\n",
    "\n",
    "(Add justification here)\n"
   ]
  },
  {
   "cell_type": "markdown",
   "id": "9f12cc47",
   "metadata": {},
   "source": [
    "### \u001bTask 4: Unique Substring Analysis\u001b\n",
    "\n",
    "- **Given string:** \"rohitrohantigerlynx\"\n",
    "- **Instructions:**\n",
    "  - Write a function to find *any* substring with the maximum number of unique characters.\n",
    "  - Print the substring and the set of unique characters.\n"
   ]
  },
  {
   "cell_type": "code",
   "execution_count": null,
   "id": "25454b2d",
   "metadata": {},
   "outputs": [],
   "source": [
    "# Your code here\n",
    "\n"
   ]
  },
  {
   "cell_type": "markdown",
   "id": "e657a1dc",
   "metadata": {},
   "source": [
    "### \u001bTask 5: City Temps Visualization\u001b\n",
    "\n",
    "- **Data (sample format):**\n",
    "  ```json\n",
    "   {\n",
    "  \"Barsana\": [33, 27, 39, 31, 30, 38, 26, 29, 40, 34, 35, 32, 28, 30, 37, 33, 27, 38, 39, 31, 29, 26, 34, 30, 33, 28, 32, 36, 29, 39, 31, 30, 38, 35, 27, 33, 32, 29, 34, 31, 30, 37, 33, 28, 26, 39, 35, 30, 29, 33],\n",
    "  \"Jodhpur\": [42, 39, 36, 44, 38, 40, 35, 41, 37, 43, 39, 38, 36, 35, 40, 42, 37, 39, 41, 43, 35, 40, 36, 44, 38, 39, 41, 42, 36, 39, 37, 40, 43, 35, 39, 41, 44, 38, 36, 37, 40, 42, 39, 35, 43, 38, 41, 39, 36, 40],\n",
    "  \"Ranchi\": [25, 22, 28, 30, 26, 24, 27, 29, 23, 31, 28, 25, 29, 24, 26, 27, 30, 22, 28, 23, 26, 29, 31, 25, 27, 24, 30, 26, 22, 28, 25, 27, 29, 24, 26, 30, 31, 22, 23, 27, 29, 25, 30, 26, 24, 28, 29, 25, 22, 30]\n",
    "  }\n",
    "  ```\n",
    "**You have to use the full json file. Get the full data in the Github Repo, file is named: Temperature.json**\n",
    "\n",
    "\n",
    "- **Instructions:**\n",
    "  - Use the json file given in the repo convert into a dictionary for further operations\n",
    "  - Plot all city temperatures over the week (line plot).\n",
    "  - Identify which city had the *widest* temperature range and print its name.\n"
   ]
  },
  {
   "cell_type": "code",
   "execution_count": null,
   "id": "0f6cab61",
   "metadata": {},
   "outputs": [],
   "source": [
    "# Your code here\n",
    "\n"
   ]
  },
  {
   "cell_type": "markdown",
   "id": "d8259d22",
   "metadata": {},
   "source": [
    "### \u001bTask 6: Imputation with Odd Names\u001b\n",
    "\n",
    "- **Data:**\n",
    "  ```python\n",
    "  import numpy as np\n",
    "  import pandas as pd\n",
    "  df = pd.DataFrame({\n",
    "    'colX': [1, np.nan, 3, 4, 5],\n",
    "    'weirdB': [np.nan, 2, 1, np.nan, 5]\n",
    "  })\n",
    "  ```\n",
    "- **Instructions:**\n",
    "  - Replace NaNs in `'colX'` with the median of `'colX'`.\n",
    "  - Replace NaNs in `'weirdB'` with the mean of `'weirdB'`.\n",
    "  - Print the resulting DataFrame.\n"
   ]
  },
  {
   "cell_type": "code",
   "execution_count": null,
   "id": "6522a40f",
   "metadata": {},
   "outputs": [],
   "source": [
    "# Your code here\n",
    "\n"
   ]
  },
  {
   "cell_type": "markdown",
   "id": "65f443dc",
   "metadata": {},
   "source": [
    "### \u001bTask 7: Neural Forward Pass\u001b\n",
    "\n",
    "- **Given:**\n",
    "  - `X = np.array([0.25, -0.75, 0.5])`\n",
    "  - `w = np.array([1.2, -0.8, 0.3])`\n",
    "  - `b = 0.6`\n",
    "- **Instructions:**\n",
    "  - Perform the forward pass of a single-neuron layer with sigmoid activation and print the output.\n"
   ]
  },
  {
   "cell_type": "code",
   "execution_count": null,
   "id": "29392531",
   "metadata": {},
   "outputs": [],
   "source": [
    "# Your code here\n",
    "\n"
   ]
  }
 ],
 "metadata": {
  "kernelspec": {
   "display_name": "Python [conda env:base] *",
   "language": "python",
   "name": "conda-base-py"
  },
  "language_info": {
   "codemirror_mode": {
    "name": "ipython",
    "version": 3
   },
   "file_extension": ".py",
   "mimetype": "text/x-python",
   "name": "python",
   "nbconvert_exporter": "python",
   "pygments_lexer": "ipython3",
   "version": "3.12.7"
  }
 },
 "nbformat": 4,
 "nbformat_minor": 5
}
